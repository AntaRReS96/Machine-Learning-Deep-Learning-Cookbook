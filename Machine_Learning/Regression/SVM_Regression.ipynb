{
  "cells": [
    {
      "cell_type": "markdown",
      "metadata": {
        "vscode": {
          "languageId": "raw"
        }
      },
      "source": [
        "# **Support Vector Machine Regression (SVR)**\n",
        "## **Regresja metodą wektorów nośnych**\n",
        "\n",
        "---\n",
        "\n",
        "### **Overview / Przegląd**\n",
        "\n",
        "Support Vector Machine Regression (SVR) extends SVM to regression problems. Instead of finding a hyperplane that separates classes, SVR finds a hyperplane that best fits the data within a specified tolerance (epsilon).\n",
        "\n",
        "Regresja metodą wektorów nośnych (SVR) rozszerza SVM na problemy regresji. Zamiast znajdować hiperpłaszczyznę, która rozdziela klasy, SVR znajduje hiperpłaszczyznę, która najlepiej dopasowuje się do danych w ramach określonej tolerancji (epsilon).\n",
        "\n",
        "### **Mathematical Foundation / Podstawy matematyczne**\n",
        "\n",
        "The SVR optimization problem:\n",
        "Problem optymalizacyjny SVR:\n",
        "\n",
        "$$\\min_{w,b,\\xi,\\xi^*} \\frac{1}{2}||w||^2 + C\\sum_{i=1}^{n}(\\xi_i + \\xi_i^*)$$\n",
        "\n",
        "Subject to:\n",
        "Przy ograniczeniach:\n",
        "- $y_i - w^T\\phi(x_i) - b \\leq \\varepsilon + \\xi_i$\n",
        "- $w^T\\phi(x_i) + b - y_i \\leq \\varepsilon + \\xi_i^*$\n",
        "- $\\xi_i, \\xi_i^* \\geq 0$\n",
        "\n",
        "Where:\n",
        "Gdzie:\n",
        "- $\\varepsilon$ = epsilon (tolerance for errors)\n",
        "- $C$ = regularization parameter\n",
        "- $\\xi_i, \\xi_i^*$ = slack variables\n"
      ]
    },
    {
      "cell_type": "code",
      "execution_count": null,
      "metadata": {},
      "outputs": [],
      "source": [
        "# Import required libraries / Importowanie wymaganych bibliotek\n",
        "import numpy as np\n",
        "import pandas as pd\n",
        "import matplotlib.pyplot as plt\n",
        "import seaborn as sns\n",
        "from sklearn.datasets import make_regression, load_diabetes, load_boston\n",
        "from sklearn.model_selection import train_test_split, cross_val_score, GridSearchCV\n",
        "from sklearn.svm import SVR\n",
        "from sklearn.preprocessing import StandardScaler\n",
        "from sklearn.metrics import mean_squared_error, r2_score, mean_absolute_error\n",
        "from sklearn.pipeline import Pipeline\n",
        "import warnings\n",
        "warnings.filterwarnings('ignore')\n",
        "\n",
        "# Set style for plots / Ustawienie stylu wykresów\n",
        "plt.style.use('seaborn-v0_8')\n",
        "sns.set_palette(\"husl\")\n",
        "\n",
        "print(\"Libraries imported successfully / Biblioteki zaimportowane pomyślnie\")\n"
      ]
    },
    {
      "cell_type": "markdown",
      "metadata": {
        "vscode": {
          "languageId": "raw"
        }
      },
      "source": [
        "## **1. Dataset Creation and Exploration**\n",
        "### *Tworzenie i eksploracja zbioru danych*\n"
      ]
    },
    {
      "cell_type": "markdown",
      "metadata": {},
      "source": [
        "CHANGE DATASET!!!"
      ]
    },
    {
      "cell_type": "code",
      "execution_count": null,
      "metadata": {},
      "outputs": [],
      "source": [
        "# Create synthetic regression dataset / Tworzenie syntetycznego zbioru danych regresji\n",
        "np.random.seed(42)\n",
        "X_synthetic, y_synthetic = make_regression(\n",
        "    n_samples=200, \n",
        "    n_features=1, \n",
        "    noise=10, \n",
        "    random_state=42\n",
        ")\n",
        "\n",
        "# Add some outliers / Dodanie kilku wartości odstających\n",
        "outlier_indices = np.random.choice(len(X_synthetic), 10, replace=False)\n",
        "y_synthetic[outlier_indices] += np.random.normal(0, 50, 10)\n",
        "\n",
        "print(f\"Synthetic dataset shape / Kształt syntetycznego zbioru: {X_synthetic.shape}\")\n",
        "print(f\"Target range / Zakres zmiennej docelowej: [{y_synthetic.min():.2f}, {y_synthetic.max():.2f}]\")\n",
        "\n",
        "# Visualize synthetic data / Wizualizacja syntetycznych danych\n",
        "plt.figure(figsize=(12, 5))\n",
        "\n",
        "plt.subplot(1, 2, 1)\n",
        "plt.scatter(X_synthetic, y_synthetic, alpha=0.7, color='blue')\n",
        "plt.xlabel('Feature')\n",
        "plt.ylabel('Target')\n",
        "plt.title('Synthetic Regression Dataset\\nSyntetyczny zbiór danych regresji')\n",
        "plt.grid(True, alpha=0.3)\n",
        "\n",
        "# Load diabetes dataset / Wczytanie zbioru danych diabetes\n",
        "diabetes = load_diabetes()\n",
        "X_diabetes = diabetes.data\n",
        "y_diabetes = diabetes.target\n",
        "\n",
        "print(f\"\\nDiabetes dataset shape / Kształt zbioru diabetes: {X_diabetes.shape}\")\n",
        "print(f\"Feature names / Nazwy cech: {diabetes.feature_names}\")\n",
        "\n",
        "# Visualize diabetes data (first feature) / Wizualizacja danych diabetes (pierwsza cecha)\n",
        "plt.subplot(1, 2, 2)\n",
        "plt.scatter(X_diabetes[:, 0], y_diabetes, alpha=0.7, color='red')\n",
        "plt.xlabel('Age (standardized)')\n",
        "plt.ylabel('Diabetes Progression')\n",
        "plt.title('Diabetes Dataset\\nZbiór danych Diabetes')\n",
        "plt.grid(True, alpha=0.3)\n",
        "\n",
        "plt.tight_layout()\n",
        "plt.show()\n"
      ]
    },
    {
      "cell_type": "code",
      "execution_count": null,
      "metadata": {},
      "outputs": [],
      "source": [
        "# Split synthetic data / Podział syntetycznych danych\n",
        "X_train, X_test, y_train, y_test = train_test_split(\n",
        "    X_synthetic, y_synthetic, test_size=0.3, random_state=42\n",
        ")\n",
        "\n",
        "# Compare different SVR kernels / Porównanie różnych jąder SVR\n",
        "kernels = ['linear', 'poly', 'rbf', 'sigmoid']\n",
        "fig, axes = plt.subplots(2, 2, figsize=(15, 12))\n",
        "axes = axes.ravel()\n",
        "\n",
        "svr_results = []\n",
        "\n",
        "for i, kernel in enumerate(kernels):\n",
        "    # Create and train SVR / Tworzenie i trenowanie SVR\n",
        "    svr = SVR(kernel=kernel, C=1.0, gamma='scale')\n",
        "    svr.fit(X_train, y_train)\n",
        "    \n",
        "    # Make predictions / Przewidywania\n",
        "    y_pred = svr.predict(X_test)\n",
        "    \n",
        "    # Calculate metrics / Obliczenie metryk\n",
        "    mse = mean_squared_error(y_test, y_pred)\n",
        "    r2 = r2_score(y_test, y_pred)\n",
        "    mae = mean_absolute_error(y_test, y_pred)\n",
        "    \n",
        "    svr_results.append({\n",
        "        'Kernel': kernel,\n",
        "        'MSE': mse,\n",
        "        'R²': r2,\n",
        "        'MAE': mae\n",
        "    })\n",
        "    \n",
        "    # Plot results / Rysowanie wyników\n",
        "    X_plot = np.linspace(X_synthetic.min(), X_synthetic.max(), 300).reshape(-1, 1)\n",
        "    y_plot = svr.predict(X_plot)\n",
        "    \n",
        "    axes[i].scatter(X_train, y_train, alpha=0.6, color='blue', label='Training data')\n",
        "    axes[i].scatter(X_test, y_test, alpha=0.6, color='red', label='Test data')\n",
        "    axes[i].plot(X_plot, y_plot, color='green', linewidth=2, label='SVR prediction')\n",
        "    axes[i].set_title(f'SVR - {kernel.capitalize()} Kernel\\\\nR² = {r2:.3f}, MSE = {mse:.2f}')\n",
        "    axes[i].set_xlabel('Feature')\n",
        "    axes[i].set_ylabel('Target')\n",
        "    axes[i].legend()\n",
        "    axes[i].grid(True, alpha=0.3)\n",
        "\n",
        "plt.tight_layout()\n",
        "plt.show()\n",
        "\n",
        "# Display results table / Wyświetlenie tabeli wyników\n",
        "results_df = pd.DataFrame(svr_results)\n",
        "print(\"\\\\nSVR Kernel Comparison / Porównanie jąder SVR:\")\n",
        "print(\"=\" * 50)\n",
        "print(results_df.to_string(index=False, float_format='%.4f'))\n"
      ]
    }
  ],
  "metadata": {
    "kernelspec": {
      "display_name": "base",
      "language": "python",
      "name": "python3"
    },
    "language_info": {
      "codemirror_mode": {
        "name": "ipython",
        "version": 3
      },
      "file_extension": ".py",
      "mimetype": "text/x-python",
      "name": "python",
      "nbconvert_exporter": "python",
      "pygments_lexer": "ipython3",
      "version": "3.12.4"
    }
  },
  "nbformat": 4,
  "nbformat_minor": 2
}
