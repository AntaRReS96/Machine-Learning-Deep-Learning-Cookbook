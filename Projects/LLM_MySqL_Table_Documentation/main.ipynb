{
 "cells": [
  {
   "cell_type": "code",
   "execution_count": null,
   "id": "fed3ec58",
   "metadata": {},
   "outputs": [],
   "source": [
    "from LLM_MySQL_Table_Documentation import MySQLTableDescriber\n",
    "from IPython.display import display, Markdown\n",
    "\n",
    "if __name__ == \"__main__\":\n",
    "    describer = MySQLTableDescriber(schema=\"example_schema\", etl_scripts={\"example_job\": \"example_job.py\"})\n",
    "    table_description = describer.describe_table(\"example_table\")\n",
    "    display(Markdown(table_description))\n"
   ]
  }
 ],
 "metadata": {
  "language_info": {
   "name": "python"
  }
 },
 "nbformat": 4,
 "nbformat_minor": 5
}
